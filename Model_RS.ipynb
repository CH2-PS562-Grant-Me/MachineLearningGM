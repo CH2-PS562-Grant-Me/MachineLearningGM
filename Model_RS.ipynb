{
  "cells": [
    {
      "cell_type": "markdown",
      "id": "a10bc2ee",
      "metadata": {
        "id": "a10bc2ee"
      },
      "source": [
        "# Recommendation System for Scholarship : Grant Me App\n",
        "\n"
      ]
    },
    {
      "cell_type": "markdown",
      "metadata": {},
      "source": [
        "Import *Library*"
      ]
    },
    {
      "cell_type": "code",
      "execution_count": 1,
      "id": "d43abc49",
      "metadata": {
        "id": "d43abc49",
        "tags": [
          "graded"
        ]
      },
      "outputs": [],
      "source": [
        "import tensorflow as tf\n",
        "import numpy as np\n",
        "import pandas as pd\n",
        "from sklearn.preprocessing import StandardScaler\n",
        "from sklearn.cluster import KMeans\n",
        "import matplotlib as plt\n",
        "import pathlib"
      ]
    },
    {
      "cell_type": "markdown",
      "metadata": {},
      "source": [
        "Read the **Datasets**"
      ]
    },
    {
      "cell_type": "code",
      "execution_count": 2,
      "metadata": {},
      "outputs": [],
      "source": [
        "# Read the data from the CSV file or use an existing dataframe\n",
        "data = pd.read_csv('Data_Model_V2.csv')\n",
        "\n",
        "# Separate the columns using semicolons\n",
        "data[['IPK', 'Sertifikasi', 'Sertifikasi Professional', 'Prestasi Nasional', 'Lomba/Kompetisi Top 3 Nasional',\n",
        "    'Prestasi Internasional', 'Lomba/Kompetisi Top 3 Internasional', 'Intern/Magang',\n",
        "    'Volunteer/Kepanitiaan']] = data['IPK;Sertifikasi;Sertifikasi Professional;Prestasi Nasional;Lomba/Kompetisi Top 3 Nasional;Prestasi Internasional;Lomba/Kompetisi Top 3 Internasional;Intern/Magang;Volunteer/Kepanitiaan'].str.split(';', expand=True)\n",
        "\n",
        "# Drop the unnecessary columns\n",
        "data = data.drop(columns=['IPK;Sertifikasi;Sertifikasi Professional;Prestasi Nasional;Lomba/Kompetisi Top 3 Nasional;Prestasi Internasional;Lomba/Kompetisi Top 3 Internasional;Intern/Magang;Volunteer/Kepanitiaan'])\n",
        "\n",
        "# Replace empty string values with NaN\n",
        "data.replace('', np.nan, inplace=True)\n",
        "\n",
        "# Convert data types to float if needed\n",
        "data[['IPK', 'Sertifikasi', 'Sertifikasi Professional', 'Prestasi Nasional', 'Lomba/Kompetisi Top 3 Nasional',\n",
        "    'Prestasi Internasional', 'Lomba/Kompetisi Top 3 Internasional', 'Intern/Magang',\n",
        "    'Volunteer/Kepanitiaan']] = data[['IPK', 'Sertifikasi', 'Sertifikasi Professional', 'Prestasi Nasional', 'Lomba/Kompetisi Top 3 Nasional',\n",
        "    'Prestasi Internasional', 'Lomba/Kompetisi Top 3 Internasional', 'Intern/Magang',\n",
        "    'Volunteer/Kepanitiaan']].astype(float)\n",
        "\n",
        "# Replace NaN values with mean or other replacement strategy\n",
        "data.fillna(data.mean(), inplace=True)\n",
        "\n",
        "# Get the columns to be used for clustering\n",
        "X = data[['IPK', 'Sertifikasi', 'Sertifikasi Professional', 'Prestasi Nasional', 'Lomba/Kompetisi Top 3 Nasional',\n",
        "        'Prestasi Internasional', 'Lomba/Kompetisi Top 3 Internasional', 'Intern/Magang',\n",
        "        'Volunteer/Kepanitiaan']]"
      ]
    },
    {
      "cell_type": "markdown",
      "metadata": {},
      "source": [
        "Make the **Clustering Model**"
      ]
    },
    {
      "cell_type": "code",
      "execution_count": 4,
      "metadata": {},
      "outputs": [
        {
          "name": "stderr",
          "output_type": "stream",
          "text": [
            "c:\\Users\\Akbar Aj\\AppData\\Local\\Programs\\Python\\Python39\\lib\\site-packages\\sklearn\\cluster\\_kmeans.py:1416: FutureWarning: The default value of `n_init` will change from 10 to 'auto' in 1.4. Set the value of `n_init` explicitly to suppress the warning\n",
            "  super()._check_params_vs_input(X, default_n_init=10)\n"
          ]
        },
        {
          "name": "stdout",
          "output_type": "stream",
          "text": [
            "0      0\n",
            "1      0\n",
            "2      1\n",
            "3      1\n",
            "4      0\n",
            "      ..\n",
            "121    3\n",
            "122    3\n",
            "123    3\n",
            "124    3\n",
            "125    3\n",
            "Name: Cluster, Length: 126, dtype: int32\n",
            "Epoch 1/10\n",
            "4/4 [==============================] - 1s 0s/step - loss: 1.4669 - accuracy: 0.6200\n",
            "Epoch 2/10\n",
            "4/4 [==============================] - 0s 7ms/step - loss: 1.3659 - accuracy: 0.6400\n",
            "Epoch 3/10\n",
            "4/4 [==============================] - 0s 2ms/step - loss: 1.2819 - accuracy: 0.6500\n",
            "Epoch 4/10\n",
            "4/4 [==============================] - 0s 4ms/step - loss: 1.2034 - accuracy: 0.6600\n",
            "Epoch 5/10\n",
            "4/4 [==============================] - 0s 6ms/step - loss: 1.1295 - accuracy: 0.6700\n",
            "Epoch 6/10\n",
            "4/4 [==============================] - 0s 1ms/step - loss: 1.0597 - accuracy: 0.6700\n",
            "Epoch 7/10\n",
            "4/4 [==============================] - 0s 6ms/step - loss: 0.9900 - accuracy: 0.6700\n",
            "Epoch 8/10\n",
            "4/4 [==============================] - 0s 5ms/step - loss: 0.9293 - accuracy: 0.6700\n",
            "Epoch 9/10\n",
            "4/4 [==============================] - 0s 8ms/step - loss: 0.8644 - accuracy: 0.6800\n",
            "Epoch 10/10\n",
            "4/4 [==============================] - 0s 8ms/step - loss: 0.8093 - accuracy: 0.6800\n",
            "1/1 [==============================] - 0s 182ms/step - loss: 0.8349 - accuracy: 0.7308\n",
            "Test Loss: 0.8349428772926331\n",
            "Test Accuracy: 0.7307692170143127\n"
          ]
        }
      ],
      "source": [
        "# Standardize the data using StandardScaler\n",
        "scaler = StandardScaler()\n",
        "X_scaled = scaler.fit_transform(X)\n",
        "\n",
        "# Create a k-means model with the desired number of clusters\n",
        "kmeans = KMeans(n_clusters=5, random_state=42)\n",
        "\n",
        "# Perform clustering on the data\n",
        "kmeans.fit(X_scaled)\n",
        "\n",
        "# Add the clustering result column to the dataframe\n",
        "data['Cluster'] = kmeans.labels_\n",
        "\n",
        "# Display the clustering result\n",
        "print(data['Cluster'])\n",
        "\n",
        "# Import the required libraries for model training and evaluation\n",
        "from sklearn.model_selection import train_test_split\n",
        "from sklearn.metrics import accuracy_score\n",
        "\n",
        "# Split the data into training and testing sets\n",
        "X_train, X_test, y_train, y_test = train_test_split(X_scaled, data['Cluster'], test_size=0.2, random_state=42)\n",
        "\n",
        "# Define the TensorFlow model\n",
        "model = tf.keras.Sequential([\n",
        "    tf.keras.layers.Dense(64, activation='relu', input_shape=(X_train.shape[1],)),\n",
        "    tf.keras.layers.Dense(32, activation='relu'),\n",
        "    tf.keras.layers.Dense(16, activation='relu'),\n",
        "    tf.keras.layers.Dense(5, activation='softmax')\n",
        "])\n",
        "\n",
        "# Compile the model\n",
        "model.compile(optimizer='adam', loss='sparse_categorical_crossentropy', metrics=['accuracy'])\n",
        "\n",
        "# Train the model\n",
        "model.fit(X_train, y_train, epochs=10, batch_size=32, verbose=1)\n",
        "\n",
        "# Evaluate the model\n",
        "test_loss, test_accuracy = model.evaluate(X_test, y_test)\n",
        "print('Test Loss:', test_loss)\n",
        "print('Test Accuracy:', test_accuracy)"
      ]
    },
    {
      "cell_type": "markdown",
      "metadata": {},
      "source": [
        "Test the Model with **Random Input** and **Plot the Data**"
      ]
    },
    {
      "cell_type": "code",
      "execution_count": 5,
      "metadata": {},
      "outputs": [
        {
          "name": "stderr",
          "output_type": "stream",
          "text": [
            "c:\\Users\\Akbar Aj\\AppData\\Local\\Programs\\Python\\Python39\\lib\\site-packages\\sklearn\\base.py:465: UserWarning: X does not have valid feature names, but StandardScaler was fitted with feature names\n",
            "  warnings.warn(\n"
          ]
        },
        {
          "name": "stdout",
          "output_type": "stream",
          "text": [
            "Inputan masuk ke cluster: [0]\n",
            "Pemerintah\n"
          ]
        },
        {
          "data": {
            "image/png": "[encoded data removed]",
            "text/plain": [
              "<Figure size 640x480 with 1 Axes>"
            ]
          },
          "metadata": {},
          "output_type": "display_data"
        }
      ],
      "source": [
        "# Inputan baru untuk diprediksi\n",
        "new_input = np.array([[3.8, 5, 3, 2, 1, 1, 1, 14, 13]])  # Ganti dengan inputan yang sesuai\n",
        "\n",
        "# Lakukan standardisasi pada inputan baru\n",
        "new_input_scaled = scaler.transform(new_input)\n",
        "\n",
        "# Lakukan prediksi cluster\n",
        "predicted_cluster = kmeans.predict(new_input_scaled)\n",
        "\n",
        "# Tampilkan hasil prediksi\n",
        "print(\"Inputan masuk ke cluster:\", predicted_cluster)\n",
        "if predicted_cluster == 0:\n",
        "    print(\"Pemerintah\")\n",
        "elif predicted_cluster == 1:\n",
        "    print(\"Swasta\")\n",
        "elif predicted_cluster == 2:\n",
        "    print(\"Organisasi\")\n",
        "elif predicted_cluster == 3:\n",
        "    print(\"Prestasi\")\n",
        "elif predicted_cluster == 4:\n",
        "    print(\"Bantuan\")\n",
        "# Plotting the clusters\n",
        "import matplotlib.pyplot as plt\n",
        "# Plotting the clusters\n",
        "plt.scatter(X_scaled[:, 0], X_scaled[:, 1], c=kmeans.labels_, cmap='viridis')\n",
        "plt.scatter(kmeans.cluster_centers_[:, 0], kmeans.cluster_centers_[:, 1], marker='x', color='red')\n",
        "plt.xlabel('Feature 1')\n",
        "plt.ylabel('Feature 2')\n",
        "plt.title('Cluster Plot')\n",
        "\n",
        "# Define the cluster labels\n",
        "cluster_labels = {\n",
        "    0: \"Pemerintah\",\n",
        "    1: \"Swasta\",\n",
        "    2: \"Organisasi\",\n",
        "    3: \"Prestasi\",\n",
        "    4: \"Bantuan\"\n",
        "}\n",
        "\n",
        "\n",
        "# Display the cluster labels\n",
        "for i, label in cluster_labels.items():\n",
        "    plt.text(kmeans.cluster_centers_[i, 0], kmeans.cluster_centers_[i, 1], label, color='black', fontsize=12)\n",
        "\n",
        "plt.show()"
      ]
    },
    {
      "cell_type": "markdown",
      "metadata": {},
      "source": [
        "Save the **Model**"
      ]
    },
    {
      "cell_type": "code",
      "execution_count": 6,
      "metadata": {},
      "outputs": [
        {
          "name": "stderr",
          "output_type": "stream",
          "text": [
            "c:\\Users\\Akbar Aj\\AppData\\Local\\Programs\\Python\\Python39\\lib\\site-packages\\keras\\src\\engine\\training.py:3000: UserWarning: You are saving your model as an HDF5 file via `model.save()`. This file format is considered legacy. We recommend using instead the native Keras format, e.g. `model.save('my_model.keras')`.\n",
            "  saving_api.save_model(\n"
          ]
        }
      ],
      "source": [
        "# Save the model\n",
        "model.save('model.h5')"
      ]
    },
    {
      "cell_type": "markdown",
      "metadata": {},
      "source": [
        "Create **Save Model Folder**"
      ]
    },
    {
      "cell_type": "code",
      "execution_count": 7,
      "metadata": {},
      "outputs": [
        {
          "name": "stdout",
          "output_type": "stream",
          "text": [
            "INFO:tensorflow:Assets written to: saved_model/1\\assets\n"
          ]
        },
        {
          "name": "stderr",
          "output_type": "stream",
          "text": [
            "INFO:tensorflow:Assets written to: saved_model/1\\assets\n"
          ]
        }
      ],
      "source": [
        "export_dir = 'saved_model/1'\n",
        "tf.saved_model.save(model, export_dir)"
      ]
    },
    {
      "cell_type": "markdown",
      "metadata": {},
      "source": [
        "Convert Saved Model to TfLite"
      ]
    },
    {
      "cell_type": "code",
      "execution_count": 8,
      "metadata": {},
      "outputs": [],
      "source": [
        "# Convert the model.\n",
        "converter = tf.lite.TFLiteConverter.from_saved_model(export_dir)\n",
        "tflite_model = converter.convert()"
      ]
    },
    {
      "cell_type": "code",
      "execution_count": 9,
      "metadata": {},
      "outputs": [
        {
          "data": {
            "text/plain": [
              "15864"
            ]
          },
          "execution_count": 9,
          "metadata": {},
          "output_type": "execute_result"
        }
      ],
      "source": [
        "tflite_model_file = pathlib.Path('model.tflite')\n",
        "tflite_model_file.write_bytes(tflite_model)"
      ]
    }
  ],
  "metadata": {
    "accelerator": "GPU",
    "colab": {
      "provenance": []
    },
    "kernelspec": {
      "display_name": "Python 3",
      "language": "python",
      "name": "python3"
    },
    "language_info": {
      "codemirror_mode": {
        "name": "ipython",
        "version": 3
      },
      "file_extension": ".py",
      "mimetype": "text/x-python",
      "name": "python",
      "nbconvert_exporter": "python",
      "pygments_lexer": "ipython3",
      "version": "3.9.0"
    }
  },
  "nbformat": 4,
  "nbformat_minor": 5
}
