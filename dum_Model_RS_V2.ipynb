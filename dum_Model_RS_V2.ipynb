{
  "cells": [
    {
      "cell_type": "markdown",
      "id": "a10bc2ee",
      "metadata": {
        "id": "a10bc2ee"
      },
      "source": [
        "# Recommendation System for Scholarship : Grant Me App\n",
        "\n"
      ]
    },
    {
      "cell_type": "markdown",
      "metadata": {
        "id": "IBlHy3NFBnWC"
      },
      "source": [
        "Import *Library*"
      ],
      "id": "IBlHy3NFBnWC"
    },
    {
      "cell_type": "code",
      "execution_count": 2,
      "id": "d43abc49",
      "metadata": {
        "id": "d43abc49",
        "tags": [
          "graded"
        ]
      },
      "outputs": [],
      "source": [
        "import tensorflow as tf\n",
        "import numpy as np\n",
        "import pandas as pd\n",
        "from sklearn.preprocessing import StandardScaler\n",
        "from sklearn.cluster import KMeans\n",
        "import matplotlib as plt\n",
        "import pathlib"
      ]
    },
    {
      "cell_type": "markdown",
      "metadata": {
        "id": "YuzSy-TbBnWD"
      },
      "source": [
        "Read the **Datasets**"
      ],
      "id": "YuzSy-TbBnWD"
    },
    {
      "cell_type": "code",
      "execution_count": 3,
      "metadata": {
        "id": "16HkOF77BnWD"
      },
      "outputs": [],
      "source": [
        "# Read the data from the CSV file or use an existing dataframe\n",
        "url = 'https://raw.githubusercontent.com/qannisa/dummydataset/main/v2merged2.csv'\n",
        "data = pd.read_csv(url)"
      ],
      "id": "16HkOF77BnWD"
    },
    {
      "cell_type": "code",
      "source": [
        "data"
      ],
      "metadata": {
        "colab": {
          "base_uri": "https://localhost:8080/",
          "height": 617
        },
        "id": "IEGb6s7eE52Q",
        "outputId": "52c5de06-2edb-4116-abf9-3d3873b2305e"
      },
      "id": "IEGb6s7eE52Q",
      "execution_count": 4,
      "outputs": [
        {
          "output_type": "execute_result",
          "data": {
            "text/plain": [
              "       Volunteers  Internships  National_Honor  National_Top3  \\\n",
              "0              41           21               0              2   \n",
              "1              40           15               1              2   \n",
              "2              31           20               3              2   \n",
              "3              34           29               3              1   \n",
              "4              40           33               2              0   \n",
              "...           ...          ...             ...            ...   \n",
              "14009          16            4               0              0   \n",
              "14010           9            1               1              0   \n",
              "14011          19           12               5              0   \n",
              "14012          13            4               5              1   \n",
              "14013          10           10               3              1   \n",
              "\n",
              "       International_Honor  International_Top3  Certification  \\\n",
              "0                        0                   0              0   \n",
              "1                        0                   0              0   \n",
              "2                        0                   0              0   \n",
              "3                        0                   0              0   \n",
              "4                        0                   0              0   \n",
              "...                    ...                 ...            ...   \n",
              "14009                    1                   1              2   \n",
              "14010                    1                   1              1   \n",
              "14011                    2                   2              1   \n",
              "14012                    5                   5              2   \n",
              "14013                    1                   1              1   \n",
              "\n",
              "       Professional_Certification Scholarship_Type  \\\n",
              "0                               1              [1]   \n",
              "1                               0              [1]   \n",
              "2                               1              [1]   \n",
              "3                               1              [1]   \n",
              "4                               1              [1]   \n",
              "...                           ...              ...   \n",
              "14009                           1              [1]   \n",
              "14010                           0              [1]   \n",
              "14011                           0              [1]   \n",
              "14012                           3              [1]   \n",
              "14013                           0              [1]   \n",
              "\n",
              "                     Scholarship_Name   GPA  \n",
              "0                 ['Beasiswa Baznas']  3.30  \n",
              "1                 ['Beasiswa Baznas']  3.60  \n",
              "2                 ['Beasiswa Baznas']  3.17  \n",
              "3                 ['Beasiswa Baznas']  3.91  \n",
              "4                 ['Beasiswa Baznas']  3.37  \n",
              "...                               ...   ...  \n",
              "14009  ['Beasiswa XL Future Leaders']  2.85  \n",
              "14010  ['Beasiswa XL Future Leaders']  3.40  \n",
              "14011  ['Beasiswa XL Future Leaders']  3.07  \n",
              "14012  ['Beasiswa XL Future Leaders']  3.24  \n",
              "14013  ['Beasiswa XL Future Leaders']  3.10  \n",
              "\n",
              "[14014 rows x 11 columns]"
            ],
            "text/html": [
              "\n",
              "  <div id=\"df-9a648183-2a90-4458-bdf9-673c345273af\" class=\"colab-df-container\">\n",
              "    <div>\n",
              "<style scoped>\n",
              "    .dataframe tbody tr th:only-of-type {\n",
              "        vertical-align: middle;\n",
              "    }\n",
              "\n",
              "    .dataframe tbody tr th {\n",
              "        vertical-align: top;\n",
              "    }\n",
              "\n",
              "    .dataframe thead th {\n",
              "        text-align: right;\n",
              "    }\n",
              "</style>\n",
              "<table border=\"1\" class=\"dataframe\">\n",
              "  <thead>\n",
              "    <tr style=\"text-align: right;\">\n",
              "      <th></th>\n",
              "      <th>Volunteers</th>\n",
              "      <th>Internships</th>\n",
              "      <th>National_Honor</th>\n",
              "      <th>National_Top3</th>\n",
              "      <th>International_Honor</th>\n",
              "      <th>International_Top3</th>\n",
              "      <th>Certification</th>\n",
              "      <th>Professional_Certification</th>\n",
              "      <th>Scholarship_Type</th>\n",
              "      <th>Scholarship_Name</th>\n",
              "      <th>GPA</th>\n",
              "    </tr>\n",
              "  </thead>\n",
              "  <tbody>\n",
              "    <tr>\n",
              "      <th>0</th>\n",
              "      <td>41</td>\n",
              "      <td>21</td>\n",
              "      <td>0</td>\n",
              "      <td>2</td>\n",
              "      <td>0</td>\n",
              "      <td>0</td>\n",
              "      <td>0</td>\n",
              "      <td>1</td>\n",
              "      <td>[1]</td>\n",
              "      <td>['Beasiswa Baznas']</td>\n",
              "      <td>3.30</td>\n",
              "    </tr>\n",
              "    <tr>\n",
              "      <th>1</th>\n",
              "      <td>40</td>\n",
              "      <td>15</td>\n",
              "      <td>1</td>\n",
              "      <td>2</td>\n",
              "      <td>0</td>\n",
              "      <td>0</td>\n",
              "      <td>0</td>\n",
              "      <td>0</td>\n",
              "      <td>[1]</td>\n",
              "      <td>['Beasiswa Baznas']</td>\n",
              "      <td>3.60</td>\n",
              "    </tr>\n",
              "    <tr>\n",
              "      <th>2</th>\n",
              "      <td>31</td>\n",
              "      <td>20</td>\n",
              "      <td>3</td>\n",
              "      <td>2</td>\n",
              "      <td>0</td>\n",
              "      <td>0</td>\n",
              "      <td>0</td>\n",
              "      <td>1</td>\n",
              "      <td>[1]</td>\n",
              "      <td>['Beasiswa Baznas']</td>\n",
              "      <td>3.17</td>\n",
              "    </tr>\n",
              "    <tr>\n",
              "      <th>3</th>\n",
              "      <td>34</td>\n",
              "      <td>29</td>\n",
              "      <td>3</td>\n",
              "      <td>1</td>\n",
              "      <td>0</td>\n",
              "      <td>0</td>\n",
              "      <td>0</td>\n",
              "      <td>1</td>\n",
              "      <td>[1]</td>\n",
              "      <td>['Beasiswa Baznas']</td>\n",
              "      <td>3.91</td>\n",
              "    </tr>\n",
              "    <tr>\n",
              "      <th>4</th>\n",
              "      <td>40</td>\n",
              "      <td>33</td>\n",
              "      <td>2</td>\n",
              "      <td>0</td>\n",
              "      <td>0</td>\n",
              "      <td>0</td>\n",
              "      <td>0</td>\n",
              "      <td>1</td>\n",
              "      <td>[1]</td>\n",
              "      <td>['Beasiswa Baznas']</td>\n",
              "      <td>3.37</td>\n",
              "    </tr>\n",
              "    <tr>\n",
              "      <th>...</th>\n",
              "      <td>...</td>\n",
              "      <td>...</td>\n",
              "      <td>...</td>\n",
              "      <td>...</td>\n",
              "      <td>...</td>\n",
              "      <td>...</td>\n",
              "      <td>...</td>\n",
              "      <td>...</td>\n",
              "      <td>...</td>\n",
              "      <td>...</td>\n",
              "      <td>...</td>\n",
              "    </tr>\n",
              "    <tr>\n",
              "      <th>14009</th>\n",
              "      <td>16</td>\n",
              "      <td>4</td>\n",
              "      <td>0</td>\n",
              "      <td>0</td>\n",
              "      <td>1</td>\n",
              "      <td>1</td>\n",
              "      <td>2</td>\n",
              "      <td>1</td>\n",
              "      <td>[1]</td>\n",
              "      <td>['Beasiswa XL Future Leaders']</td>\n",
              "      <td>2.85</td>\n",
              "    </tr>\n",
              "    <tr>\n",
              "      <th>14010</th>\n",
              "      <td>9</td>\n",
              "      <td>1</td>\n",
              "      <td>1</td>\n",
              "      <td>0</td>\n",
              "      <td>1</td>\n",
              "      <td>1</td>\n",
              "      <td>1</td>\n",
              "      <td>0</td>\n",
              "      <td>[1]</td>\n",
              "      <td>['Beasiswa XL Future Leaders']</td>\n",
              "      <td>3.40</td>\n",
              "    </tr>\n",
              "    <tr>\n",
              "      <th>14011</th>\n",
              "      <td>19</td>\n",
              "      <td>12</td>\n",
              "      <td>5</td>\n",
              "      <td>0</td>\n",
              "      <td>2</td>\n",
              "      <td>2</td>\n",
              "      <td>1</td>\n",
              "      <td>0</td>\n",
              "      <td>[1]</td>\n",
              "      <td>['Beasiswa XL Future Leaders']</td>\n",
              "      <td>3.07</td>\n",
              "    </tr>\n",
              "    <tr>\n",
              "      <th>14012</th>\n",
              "      <td>13</td>\n",
              "      <td>4</td>\n",
              "      <td>5</td>\n",
              "      <td>1</td>\n",
              "      <td>5</td>\n",
              "      <td>5</td>\n",
              "      <td>2</td>\n",
              "      <td>3</td>\n",
              "      <td>[1]</td>\n",
              "      <td>['Beasiswa XL Future Leaders']</td>\n",
              "      <td>3.24</td>\n",
              "    </tr>\n",
              "    <tr>\n",
              "      <th>14013</th>\n",
              "      <td>10</td>\n",
              "      <td>10</td>\n",
              "      <td>3</td>\n",
              "      <td>1</td>\n",
              "      <td>1</td>\n",
              "      <td>1</td>\n",
              "      <td>1</td>\n",
              "      <td>0</td>\n",
              "      <td>[1]</td>\n",
              "      <td>['Beasiswa XL Future Leaders']</td>\n",
              "      <td>3.10</td>\n",
              "    </tr>\n",
              "  </tbody>\n",
              "</table>\n",
              "<p>14014 rows × 11 columns</p>\n",
              "</div>\n",
              "    <div class=\"colab-df-buttons\">\n",
              "\n",
              "  <div class=\"colab-df-container\">\n",
              "    <button class=\"colab-df-convert\" onclick=\"convertToInteractive('df-9a648183-2a90-4458-bdf9-673c345273af')\"\n",
              "            title=\"Convert this dataframe to an interactive table.\"\n",
              "            style=\"display:none;\">\n",
              "\n",
              "  <svg xmlns=\"http://www.w3.org/2000/svg\" height=\"24px\" viewBox=\"0 -960 960 960\">\n",
              "    <path d=\"M120-120v-720h720v720H120Zm60-500h600v-160H180v160Zm220 220h160v-160H400v160Zm0 220h160v-160H400v160ZM180-400h160v-160H180v160Zm440 0h160v-160H620v160ZM180-180h160v-160H180v160Zm440 0h160v-160H620v160Z\"/>\n",
              "  </svg>\n",
              "    </button>\n",
              "\n",
              "  <style>\n",
              "    .colab-df-container {\n",
              "      display:flex;\n",
              "      gap: 12px;\n",
              "    }\n",
              "\n",
              "    .colab-df-convert {\n",
              "      background-color: #E8F0FE;\n",
              "      border: none;\n",
              "      border-radius: 50%;\n",
              "      cursor: pointer;\n",
              "      display: none;\n",
              "      fill: #1967D2;\n",
              "      height: 32px;\n",
              "      padding: 0 0 0 0;\n",
              "      width: 32px;\n",
              "    }\n",
              "\n",
              "    .colab-df-convert:hover {\n",
              "      background-color: #E2EBFA;\n",
              "      box-shadow: 0px 1px 2px rgba(60, 64, 67, 0.3), 0px 1px 3px 1px rgba(60, 64, 67, 0.15);\n",
              "      fill: #174EA6;\n",
              "    }\n",
              "\n",
              "    .colab-df-buttons div {\n",
              "      margin-bottom: 4px;\n",
              "    }\n",
              "\n",
              "    [theme=dark] .colab-df-convert {\n",
              "      background-color: #3B4455;\n",
              "      fill: #D2E3FC;\n",
              "    }\n",
              "\n",
              "    [theme=dark] .colab-df-convert:hover {\n",
              "      background-color: #434B5C;\n",
              "      box-shadow: 0px 1px 3px 1px rgba(0, 0, 0, 0.15);\n",
              "      filter: drop-shadow(0px 1px 2px rgba(0, 0, 0, 0.3));\n",
              "      fill: #FFFFFF;\n",
              "    }\n",
              "  </style>\n",
              "\n",
              "    <script>\n",
              "      const buttonEl =\n",
              "        document.querySelector('#df-9a648183-2a90-4458-bdf9-673c345273af button.colab-df-convert');\n",
              "      buttonEl.style.display =\n",
              "        google.colab.kernel.accessAllowed ? 'block' : 'none';\n",
              "\n",
              "      async function convertToInteractive(key) {\n",
              "        const element = document.querySelector('#df-9a648183-2a90-4458-bdf9-673c345273af');\n",
              "        const dataTable =\n",
              "          await google.colab.kernel.invokeFunction('convertToInteractive',\n",
              "                                                    [key], {});\n",
              "        if (!dataTable) return;\n",
              "\n",
              "        const docLinkHtml = 'Like what you see? Visit the ' +\n",
              "          '<a target=\"_blank\" href=https://colab.research.google.com/notebooks/data_table.ipynb>data table notebook</a>'\n",
              "          + ' to learn more about interactive tables.';\n",
              "        element.innerHTML = '';\n",
              "        dataTable['output_type'] = 'display_data';\n",
              "        await google.colab.output.renderOutput(dataTable, element);\n",
              "        const docLink = document.createElement('div');\n",
              "        docLink.innerHTML = docLinkHtml;\n",
              "        element.appendChild(docLink);\n",
              "      }\n",
              "    </script>\n",
              "  </div>\n",
              "\n",
              "\n",
              "<div id=\"df-7509ee00-2a9c-4e0e-9dd0-9992fc072a6c\">\n",
              "  <button class=\"colab-df-quickchart\" onclick=\"quickchart('df-7509ee00-2a9c-4e0e-9dd0-9992fc072a6c')\"\n",
              "            title=\"Suggest charts\"\n",
              "            style=\"display:none;\">\n",
              "\n",
              "<svg xmlns=\"http://www.w3.org/2000/svg\" height=\"24px\"viewBox=\"0 0 24 24\"\n",
              "     width=\"24px\">\n",
              "    <g>\n",
              "        <path d=\"M19 3H5c-1.1 0-2 .9-2 2v14c0 1.1.9 2 2 2h14c1.1 0 2-.9 2-2V5c0-1.1-.9-2-2-2zM9 17H7v-7h2v7zm4 0h-2V7h2v10zm4 0h-2v-4h2v4z\"/>\n",
              "    </g>\n",
              "</svg>\n",
              "  </button>\n",
              "\n",
              "<style>\n",
              "  .colab-df-quickchart {\n",
              "      --bg-color: #E8F0FE;\n",
              "      --fill-color: #1967D2;\n",
              "      --hover-bg-color: #E2EBFA;\n",
              "      --hover-fill-color: #174EA6;\n",
              "      --disabled-fill-color: #AAA;\n",
              "      --disabled-bg-color: #DDD;\n",
              "  }\n",
              "\n",
              "  [theme=dark] .colab-df-quickchart {\n",
              "      --bg-color: #3B4455;\n",
              "      --fill-color: #D2E3FC;\n",
              "      --hover-bg-color: #434B5C;\n",
              "      --hover-fill-color: #FFFFFF;\n",
              "      --disabled-bg-color: #3B4455;\n",
              "      --disabled-fill-color: #666;\n",
              "  }\n",
              "\n",
              "  .colab-df-quickchart {\n",
              "    background-color: var(--bg-color);\n",
              "    border: none;\n",
              "    border-radius: 50%;\n",
              "    cursor: pointer;\n",
              "    display: none;\n",
              "    fill: var(--fill-color);\n",
              "    height: 32px;\n",
              "    padding: 0;\n",
              "    width: 32px;\n",
              "  }\n",
              "\n",
              "  .colab-df-quickchart:hover {\n",
              "    background-color: var(--hover-bg-color);\n",
              "    box-shadow: 0 1px 2px rgba(60, 64, 67, 0.3), 0 1px 3px 1px rgba(60, 64, 67, 0.15);\n",
              "    fill: var(--button-hover-fill-color);\n",
              "  }\n",
              "\n",
              "  .colab-df-quickchart-complete:disabled,\n",
              "  .colab-df-quickchart-complete:disabled:hover {\n",
              "    background-color: var(--disabled-bg-color);\n",
              "    fill: var(--disabled-fill-color);\n",
              "    box-shadow: none;\n",
              "  }\n",
              "\n",
              "  .colab-df-spinner {\n",
              "    border: 2px solid var(--fill-color);\n",
              "    border-color: transparent;\n",
              "    border-bottom-color: var(--fill-color);\n",
              "    animation:\n",
              "      spin 1s steps(1) infinite;\n",
              "  }\n",
              "\n",
              "  @keyframes spin {\n",
              "    0% {\n",
              "      border-color: transparent;\n",
              "      border-bottom-color: var(--fill-color);\n",
              "      border-left-color: var(--fill-color);\n",
              "    }\n",
              "    20% {\n",
              "      border-color: transparent;\n",
              "      border-left-color: var(--fill-color);\n",
              "      border-top-color: var(--fill-color);\n",
              "    }\n",
              "    30% {\n",
              "      border-color: transparent;\n",
              "      border-left-color: var(--fill-color);\n",
              "      border-top-color: var(--fill-color);\n",
              "      border-right-color: var(--fill-color);\n",
              "    }\n",
              "    40% {\n",
              "      border-color: transparent;\n",
              "      border-right-color: var(--fill-color);\n",
              "      border-top-color: var(--fill-color);\n",
              "    }\n",
              "    60% {\n",
              "      border-color: transparent;\n",
              "      border-right-color: var(--fill-color);\n",
              "    }\n",
              "    80% {\n",
              "      border-color: transparent;\n",
              "      border-right-color: var(--fill-color);\n",
              "      border-bottom-color: var(--fill-color);\n",
              "    }\n",
              "    90% {\n",
              "      border-color: transparent;\n",
              "      border-bottom-color: var(--fill-color);\n",
              "    }\n",
              "  }\n",
              "</style>\n",
              "\n",
              "  <script>\n",
              "    async function quickchart(key) {\n",
              "      const quickchartButtonEl =\n",
              "        document.querySelector('#' + key + ' button');\n",
              "      quickchartButtonEl.disabled = true;  // To prevent multiple clicks.\n",
              "      quickchartButtonEl.classList.add('colab-df-spinner');\n",
              "      try {\n",
              "        const charts = await google.colab.kernel.invokeFunction(\n",
              "            'suggestCharts', [key], {});\n",
              "      } catch (error) {\n",
              "        console.error('Error during call to suggestCharts:', error);\n",
              "      }\n",
              "      quickchartButtonEl.classList.remove('colab-df-spinner');\n",
              "      quickchartButtonEl.classList.add('colab-df-quickchart-complete');\n",
              "    }\n",
              "    (() => {\n",
              "      let quickchartButtonEl =\n",
              "        document.querySelector('#df-7509ee00-2a9c-4e0e-9dd0-9992fc072a6c button');\n",
              "      quickchartButtonEl.style.display =\n",
              "        google.colab.kernel.accessAllowed ? 'block' : 'none';\n",
              "    })();\n",
              "  </script>\n",
              "</div>\n",
              "    </div>\n",
              "  </div>\n"
            ]
          },
          "metadata": {},
          "execution_count": 4
        }
      ]
    },
    {
      "cell_type": "code",
      "source": [
        "print(data.columns.tolist())"
      ],
      "metadata": {
        "colab": {
          "base_uri": "https://localhost:8080/"
        },
        "id": "QmLq_yeOj8Je",
        "outputId": "10a8b418-2b9e-4630-a2da-accf2b72a7ef"
      },
      "id": "QmLq_yeOj8Je",
      "execution_count": 6,
      "outputs": [
        {
          "output_type": "stream",
          "name": "stdout",
          "text": [
            "['Column1;Volunteers;Internships;National_Honor;National_Top3;International_Honor;International_Top3;Certification;Professional_Certification;Scholarships;Scholarship_Type;Scholarship_Name;GPA']\n"
          ]
        }
      ]
    },
    {
      "cell_type": "code",
      "source": [
        "# Separate the columns using semicolons\n",
        "data[['Column1', 'Volunteers', 'Internships', 'National_Honor', 'National_Top3', 'International_Honor',\n",
        "      'International_Top3', 'Certification',\n",
        "      'Professional_Certification', 'Scholarships', 'Scholarship_Type', 'Scholarship_Name', 'GPA']] = data['Column1;Volunteers;Internships;National_Honor;National_Top3;International_Honor;International_Top3;Certification;Professional_Certification;Scholarships;Scholarship_Type;Scholarship_Name;GPA'].str.split(';', expand=True)\n",
        "\n",
        "# Drop the unnecessary columns\n",
        "data = data.drop(columns=['Column1;Volunteers;Internships;National_Honor;National_Top3;International_Honor;International_Top3;Certification;Professional_Certification;Scholarships;Scholarship_Type;Scholarship_Name;GPA'])\n",
        "\n",
        "# Replace empty string values with NaN\n",
        "data.replace('', np.nan, inplace=True)\n",
        "\n",
        "# Convert data types to float if needed\n",
        "data[['Volunteers', 'Internships', 'National_Honor', 'National_Top3', 'International_Honor',\n",
        "    'International_Top3', 'Certification', 'Professional_Certification',\n",
        "    'GPA']] = data[['Volunteers', 'Internships', 'National_Honor', 'National_Top3', 'International_Honor',\n",
        "    'International_Top3', 'Certification', 'Professional_Certification',\n",
        "    'GPA']].astype(float)\n",
        "\n",
        "# Replace NaN values with mean or other replacement strategy\n",
        "data.fillna(data.mean(), inplace=True)\n",
        "\n",
        "# Get the columns to be used for clustering\n",
        "X = data[['Volunteers', 'Internships', 'National_Honor', 'National_Top3', 'International_Honor',\n",
        "    'International_Top3', 'Certification', 'Professional_Certification',\n",
        "    'GPA']]"
      ],
      "metadata": {
        "colab": {
          "base_uri": "https://localhost:8080/"
        },
        "id": "ty10w4MDE3zg",
        "outputId": "caa6354d-4567-4938-e832-ecb12f0fe1ce"
      },
      "id": "ty10w4MDE3zg",
      "execution_count": 12,
      "outputs": [
        {
          "output_type": "stream",
          "name": "stderr",
          "text": [
            "<ipython-input-12-2348211d253e>:20: FutureWarning: The default value of numeric_only in DataFrame.mean is deprecated. In a future version, it will default to False. In addition, specifying 'numeric_only=None' is deprecated. Select only valid columns or specify the value of numeric_only to silence this warning.\n",
            "  data.fillna(data.mean(), inplace=True)\n"
          ]
        }
      ]
    },
    {
      "cell_type": "code",
      "source": [
        "print(X)"
      ],
      "metadata": {
        "colab": {
          "base_uri": "https://localhost:8080/"
        },
        "id": "RReJvUrVn0s8",
        "outputId": "5be50160-b771-474e-c771-4ba3634746fe"
      },
      "id": "RReJvUrVn0s8",
      "execution_count": 13,
      "outputs": [
        {
          "output_type": "stream",
          "name": "stdout",
          "text": [
            "       Volunteers  Internships  National_Honor  National_Top3  \\\n",
            "0            41.0         21.0             0.0            2.0   \n",
            "1            40.0         15.0             1.0            2.0   \n",
            "2            31.0         20.0             3.0            2.0   \n",
            "3            34.0         29.0             3.0            1.0   \n",
            "4            40.0         33.0             2.0            0.0   \n",
            "...           ...          ...             ...            ...   \n",
            "14009        16.0          4.0             0.0            0.0   \n",
            "14010         9.0          1.0             1.0            0.0   \n",
            "14011        19.0         12.0             5.0            0.0   \n",
            "14012        13.0          4.0             5.0            1.0   \n",
            "14013        10.0         10.0             3.0            1.0   \n",
            "\n",
            "       International_Honor  International_Top3  Certification  \\\n",
            "0                      0.0                 0.0            0.0   \n",
            "1                      0.0                 0.0            0.0   \n",
            "2                      0.0                 0.0            0.0   \n",
            "3                      0.0                 0.0            0.0   \n",
            "4                      0.0                 0.0            0.0   \n",
            "...                    ...                 ...            ...   \n",
            "14009                  1.0                 1.0            2.0   \n",
            "14010                  1.0                 1.0            1.0   \n",
            "14011                  2.0                 2.0            1.0   \n",
            "14012                  5.0                 5.0            2.0   \n",
            "14013                  1.0                 1.0            1.0   \n",
            "\n",
            "       Professional_Certification   GPA  \n",
            "0                             1.0  3.30  \n",
            "1                             0.0  3.60  \n",
            "2                             1.0  3.17  \n",
            "3                             1.0  3.91  \n",
            "4                             1.0  3.37  \n",
            "...                           ...   ...  \n",
            "14009                         1.0  2.85  \n",
            "14010                         0.0  3.40  \n",
            "14011                         0.0  3.07  \n",
            "14012                         3.0  3.24  \n",
            "14013                         0.0  3.10  \n",
            "\n",
            "[14014 rows x 9 columns]\n"
          ]
        }
      ]
    },
    {
      "cell_type": "markdown",
      "metadata": {
        "id": "4Fs7955wBnWE"
      },
      "source": [
        "Make the **Clustering Model**"
      ],
      "id": "4Fs7955wBnWE"
    },
    {
      "cell_type": "code",
      "execution_count": 16,
      "metadata": {
        "colab": {
          "base_uri": "https://localhost:8080/"
        },
        "id": "mRFfFWfrBnWE",
        "outputId": "6e45a114-d50d-4ce2-b1e1-144716f0596c"
      },
      "outputs": [
        {
          "output_type": "stream",
          "name": "stderr",
          "text": [
            "/usr/local/lib/python3.10/dist-packages/sklearn/cluster/_kmeans.py:870: FutureWarning: The default value of `n_init` will change from 10 to 'auto' in 1.4. Set the value of `n_init` explicitly to suppress the warning\n",
            "  warnings.warn(\n"
          ]
        },
        {
          "output_type": "stream",
          "name": "stdout",
          "text": [
            "0        2\n",
            "1        2\n",
            "2        2\n",
            "3        2\n",
            "4        2\n",
            "        ..\n",
            "14009    0\n",
            "14010    0\n",
            "14011    3\n",
            "14012    3\n",
            "14013    0\n",
            "Name: Cluster, Length: 14014, dtype: int32\n",
            "Epoch 1/10\n",
            "351/351 [==============================] - 5s 11ms/step - loss: 0.3230 - accuracy: 0.9170 - val_loss: 0.0914 - val_accuracy: 0.9658\n",
            "Epoch 2/10\n",
            "351/351 [==============================] - 3s 8ms/step - loss: 0.0663 - accuracy: 0.9763 - val_loss: 0.0585 - val_accuracy: 0.9804\n",
            "Epoch 3/10\n",
            "351/351 [==============================] - 3s 7ms/step - loss: 0.0510 - accuracy: 0.9814 - val_loss: 0.0497 - val_accuracy: 0.9811\n",
            "Epoch 4/10\n",
            "351/351 [==============================] - 1s 4ms/step - loss: 0.0417 - accuracy: 0.9847 - val_loss: 0.0455 - val_accuracy: 0.9854\n",
            "Epoch 5/10\n",
            "351/351 [==============================] - 1s 4ms/step - loss: 0.0372 - accuracy: 0.9866 - val_loss: 0.0480 - val_accuracy: 0.9786\n",
            "Epoch 6/10\n",
            "351/351 [==============================] - 1s 4ms/step - loss: 0.0341 - accuracy: 0.9870 - val_loss: 0.0494 - val_accuracy: 0.9782\n",
            "Epoch 7/10\n",
            "351/351 [==============================] - 1s 4ms/step - loss: 0.0302 - accuracy: 0.9874 - val_loss: 0.0334 - val_accuracy: 0.9879\n",
            "Epoch 8/10\n",
            "351/351 [==============================] - 2s 5ms/step - loss: 0.0273 - accuracy: 0.9896 - val_loss: 0.0384 - val_accuracy: 0.9850\n",
            "Epoch 9/10\n",
            "351/351 [==============================] - 2s 5ms/step - loss: 0.0274 - accuracy: 0.9893 - val_loss: 0.0333 - val_accuracy: 0.9872\n",
            "Epoch 10/10\n",
            "351/351 [==============================] - 2s 5ms/step - loss: 0.0253 - accuracy: 0.9903 - val_loss: 0.0352 - val_accuracy: 0.9857\n",
            "88/88 [==============================] - 0s 2ms/step - loss: 0.0352 - accuracy: 0.9857\n",
            "Test Loss: 0.035183753818273544\n",
            "Test Accuracy: 0.9857295751571655\n"
          ]
        }
      ],
      "source": [
        "# Standardize the data using StandardScaler\n",
        "scaler = StandardScaler()\n",
        "X_scaled = scaler.fit_transform(X)\n",
        "\n",
        "# Create a k-means model with the desired number of clusters\n",
        "kmeans = KMeans(n_clusters=5, random_state=42)\n",
        "\n",
        "# Perform clustering on the data\n",
        "kmeans.fit(X_scaled)\n",
        "\n",
        "# Add the clustering result column to the dataframe\n",
        "data['Cluster'] = kmeans.labels_\n",
        "\n",
        "# Display the clustering result\n",
        "print(data['Cluster'])\n",
        "\n",
        "# Import the required libraries for model training and evaluation\n",
        "from sklearn.model_selection import train_test_split\n",
        "from sklearn.metrics import accuracy_score\n",
        "\n",
        "# Split the data into training and testing sets\n",
        "X_train, X_test, y_train, y_test = train_test_split(X_scaled, data['Cluster'], test_size=0.2, random_state=42)\n",
        "\n",
        "# Define the TensorFlow model\n",
        "model = tf.keras.Sequential([\n",
        "    tf.keras.layers.Dense(64, activation='relu', input_shape=(X_train.shape[1],)),\n",
        "    tf.keras.layers.Dense(32, activation='relu'),\n",
        "    tf.keras.layers.Dense(16, activation='relu'),\n",
        "    tf.keras.layers.Dense(5, activation='softmax')\n",
        "])\n",
        "\n",
        "# Compile the model\n",
        "model.compile(optimizer='adam', loss='sparse_categorical_crossentropy', metrics=['accuracy'])\n",
        "\n",
        "# Train the model\n",
        "model.fit(X_train, y_train, epochs=10, batch_size=32, verbose=1, validation_data=(X_test, y_test))\n",
        "\n",
        "# Evaluate the model\n",
        "test_loss, test_accuracy = model.evaluate(X_test, y_test)\n",
        "print('Test Loss:', test_loss)\n",
        "print('Test Accuracy:', test_accuracy)"
      ],
      "id": "mRFfFWfrBnWE"
    },
    {
      "cell_type": "markdown",
      "metadata": {
        "id": "F6FOEAi5BnWE"
      },
      "source": [
        "Test the Model with **Random Input** and **Plot the Data**"
      ],
      "id": "F6FOEAi5BnWE"
    },
    {
      "cell_type": "code",
      "execution_count": 15,
      "metadata": {
        "colab": {
          "base_uri": "https://localhost:8080/"
        },
        "id": "yT7lsnfrBnWF",
        "outputId": "09dd4b16-8fe5-41ff-a357-e0028d1314b3"
      },
      "outputs": [
        {
          "output_type": "stream",
          "name": "stdout",
          "text": [
            "Inputan masuk ke cluster: [4]\n",
            "Bantuan\n"
          ]
        },
        {
          "output_type": "stream",
          "name": "stderr",
          "text": [
            "/usr/local/lib/python3.10/dist-packages/sklearn/base.py:439: UserWarning: X does not have valid feature names, but StandardScaler was fitted with feature names\n",
            "  warnings.warn(\n"
          ]
        }
      ],
      "source": [
        "# Inputan baru untuk diprediksi\n",
        "new_input = np.array([[3.8, 5, 3, 2, 1, 1, 1, 14, 13]])  # Ganti dengan inputan yang sesuai\n",
        "\n",
        "# Lakukan standardisasi pada inputan baru\n",
        "new_input_scaled = scaler.transform(new_input)\n",
        "\n",
        "# Lakukan prediksi cluster\n",
        "predicted_cluster = kmeans.predict(new_input_scaled)\n",
        "\n",
        "# Tampilkan hasil prediksi\n",
        "print(\"Inputan masuk ke cluster:\", predicted_cluster)\n",
        "if predicted_cluster == 0:\n",
        "    print(\"Pemerintah\")\n",
        "elif predicted_cluster == 1:\n",
        "    print(\"Swasta\")\n",
        "elif predicted_cluster == 2:\n",
        "    print(\"Organisasi\")\n",
        "elif predicted_cluster == 3:\n",
        "    print(\"Prestasi\")\n",
        "elif predicted_cluster == 4:\n",
        "    print(\"Bantuan\")"
      ],
      "id": "yT7lsnfrBnWF"
    },
    {
      "cell_type": "markdown",
      "metadata": {
        "id": "a3ZyAbI2BnWF"
      },
      "source": [
        "Save the **Model**"
      ],
      "id": "a3ZyAbI2BnWF"
    },
    {
      "cell_type": "code",
      "execution_count": 17,
      "metadata": {
        "colab": {
          "base_uri": "https://localhost:8080/"
        },
        "id": "Y_elBUMxBnWF",
        "outputId": "8df26947-cae4-4463-f7bd-6859dc71312b"
      },
      "outputs": [
        {
          "output_type": "stream",
          "name": "stderr",
          "text": [
            "/usr/local/lib/python3.10/dist-packages/keras/src/engine/training.py:3079: UserWarning: You are saving your model as an HDF5 file via `model.save()`. This file format is considered legacy. We recommend using instead the native Keras format, e.g. `model.save('my_model.keras')`.\n",
            "  saving_api.save_model(\n"
          ]
        }
      ],
      "source": [
        "# Save the model\n",
        "model.save('model.h5')"
      ],
      "id": "Y_elBUMxBnWF"
    },
    {
      "cell_type": "markdown",
      "metadata": {
        "id": "GCZVGjOuBnWF"
      },
      "source": [
        "Create **Save Model Folder**"
      ],
      "id": "GCZVGjOuBnWF"
    },
    {
      "cell_type": "code",
      "execution_count": null,
      "metadata": {
        "id": "YmJCr1BzBnWG",
        "outputId": "be331adb-7a5a-4ed5-f9e1-7f90d405e34a"
      },
      "outputs": [
        {
          "name": "stdout",
          "output_type": "stream",
          "text": [
            "INFO:tensorflow:Assets written to: saved_model/1\\assets\n"
          ]
        },
        {
          "name": "stderr",
          "output_type": "stream",
          "text": [
            "INFO:tensorflow:Assets written to: saved_model/1\\assets\n"
          ]
        }
      ],
      "source": [
        "export_dir = 'saved_model/1'\n",
        "tf.saved_model.save(model, export_dir)"
      ],
      "id": "YmJCr1BzBnWG"
    },
    {
      "cell_type": "markdown",
      "metadata": {
        "id": "X_40kFc4BnWG"
      },
      "source": [
        "Convert Saved Model to TfLite"
      ],
      "id": "X_40kFc4BnWG"
    },
    {
      "cell_type": "code",
      "execution_count": null,
      "metadata": {
        "id": "YSoWFQ7rBnWG"
      },
      "outputs": [],
      "source": [
        "# Convert the model.\n",
        "converter = tf.lite.TFLiteConverter.from_saved_model(export_dir)\n",
        "tflite_model = converter.convert()"
      ],
      "id": "YSoWFQ7rBnWG"
    },
    {
      "cell_type": "code",
      "execution_count": null,
      "metadata": {
        "id": "6tYs5o7yBnWG",
        "outputId": "9f013cc3-4ebb-4270-9015-f2b60249e184"
      },
      "outputs": [
        {
          "data": {
            "text/plain": [
              "15864"
            ]
          },
          "execution_count": 9,
          "metadata": {},
          "output_type": "execute_result"
        }
      ],
      "source": [
        "tflite_model_file = pathlib.Path('model.tflite')\n",
        "tflite_model_file.write_bytes(tflite_model)"
      ],
      "id": "6tYs5o7yBnWG"
    }
  ],
  "metadata": {
    "accelerator": "GPU",
    "colab": {
      "provenance": []
    },
    "kernelspec": {
      "display_name": "Python 3",
      "language": "python",
      "name": "python3"
    },
    "language_info": {
      "codemirror_mode": {
        "name": "ipython",
        "version": 3
      },
      "file_extension": ".py",
      "mimetype": "text/x-python",
      "name": "python",
      "nbconvert_exporter": "python",
      "pygments_lexer": "ipython3",
      "version": "3.9.0"
    }
  },
  "nbformat": 4,
  "nbformat_minor": 5
}