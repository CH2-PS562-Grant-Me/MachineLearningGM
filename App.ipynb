{
  "cells": [
    {
      "cell_type": "markdown",
      "id": "a10bc2ee",
      "metadata": {
        "id": "a10bc2ee"
      },
      "source": [
        "# Recommendation System for Scholarship : Grant Me App\n",
        "\n"
      ]
    },
    {
      "cell_type": "markdown",
      "metadata": {},
      "source": [
        "Import *Library*"
      ]
    },
    {
      "cell_type": "code",
      "execution_count": 5,
      "id": "d43abc49",
      "metadata": {
        "id": "d43abc49",
        "tags": [
          "graded"
        ]
      },
      "outputs": [],
      "source": [
        "from flask import Flask, request, jsonify\n",
        "from keras.models import load_model\n",
        "import numpy as np\n",
        "from sklearn.cluster import KMeans\n",
        "from sklearn.preprocessing import StandardScaler\n",
        "app = Flask(__name__)\n",
        "\n",
        "# Load model\n",
        "model = load_model('model.h5')"
      ]
    },
    {
      "cell_type": "markdown",
      "metadata": {},
      "source": [
        "Read the **Datasets**"
      ]
    },
    {
      "cell_type": "code",
      "execution_count": 6,
      "metadata": {},
      "outputs": [],
      "source": [
        "@app.route('/predict', methods=['POST'])\n",
        "def predict():\n",
        "    try:\n",
        "        # Ambil data input dari request\n",
        "        data = request.get_json(force=True)\n",
        "        input_data = np.array([[\n",
        "            data['IPK'],\n",
        "            data['Sertifikasi'],\n",
        "            data['SertifikasiProfesional'],\n",
        "            data['prestasiNasional'],\n",
        "            data['lombaNasional'],\n",
        "            data['prestasiInternasional'],\n",
        "            data['lombaInternasional'],\n",
        "            data['internMagang'],\n",
        "            data['Kepanitiaan']\n",
        "        ]])\n",
        "        prediction = model.predict(input_data)\n",
        "\n",
        "        # Convert float32 values to Python floats\n",
        "        prediction = prediction.astype(float)\n",
        "        # Ambil nilai tertinggi dari hasil prediksi\n",
        "        max_index = np.argmax(prediction)\n",
        "        max_value = prediction[0, max_index].item()\n",
        "\n",
        "        # Format hasil prediksi ke dalam JSON\n",
        "        output = {'prediction': prediction.tolist(), 'max_value': max_value}\n",
        "\n",
        "        # Menentukan cluster berdasarkan max_value\n",
        "        clusters = [\"Pemerintah\", \"Swasta\", \"Organisasi\", \"Prestasi\", \"Bantuan\"]\n",
        "        cluster = clusters[max_index]\n",
        "\n",
        "        if prediction is not None:\n",
        "            return jsonify({\n",
        "                'statusCode': 200,\n",
        "                'message': 'Success Predicting',\n",
        "                'Persentase Akurasi': max_value,\n",
        "                'Tag Beasiswa': cluster,\n",
        "                'output' : output\n",
        "            }), 200\n",
        "        else:\n",
        "            return jsonify({\n",
        "                'statusCode': 500,\n",
        "                'message': 'Failed Predicting',\n",
        "                'output': {}\n",
        "            }), 500\n",
        "        \n",
        "        \n",
        "\n",
        "    except Exception as e:\n",
        "        return jsonify({'error': str(e)})"
      ]
    },
    {
      "cell_type": "code",
      "execution_count": 7,
      "metadata": {},
      "outputs": [
        {
          "name": "stdout",
          "output_type": "stream",
          "text": [
            " * Serving Flask app '__main__'\n",
            " * Debug mode: off\n"
          ]
        },
        {
          "name": "stderr",
          "output_type": "stream",
          "text": [
            "WARNING: This is a development server. Do not use it in a production deployment. Use a production WSGI server instead.\n",
            " * Running on http://127.0.0.1:5000\n",
            "Press CTRL+C to quit\n"
          ]
        },
        {
          "name": "stdout",
          "output_type": "stream",
          "text": [
            "1/1 [==============================] - 0s 90ms/step\n"
          ]
        },
        {
          "name": "stderr",
          "output_type": "stream",
          "text": [
            "127.0.0.1 - - [06/Dec/2023 22:45:51] \"POST /predict HTTP/1.1\" 200 -\n"
          ]
        }
      ],
      "source": [
        "if __name__ == '__main__':\n",
        "    app.run(port=5000)"
      ]
    }
  ],
  "metadata": {
    "accelerator": "GPU",
    "colab": {
      "provenance": []
    },
    "kernelspec": {
      "display_name": "Python 3",
      "language": "python",
      "name": "python3"
    },
    "language_info": {
      "codemirror_mode": {
        "name": "ipython",
        "version": 3
      },
      "file_extension": ".py",
      "mimetype": "text/x-python",
      "name": "python",
      "nbconvert_exporter": "python",
      "pygments_lexer": "ipython3",
      "version": "3.9.0"
    }
  },
  "nbformat": 4,
  "nbformat_minor": 5
}
